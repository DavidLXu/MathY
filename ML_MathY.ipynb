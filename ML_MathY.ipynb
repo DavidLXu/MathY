{
 "cells": [
  {
   "cell_type": "markdown",
   "metadata": {},
   "source": [
    "# ML in Pure Python by David L. Xu \n",
    "powered by MathY"
   ]
  },
  {
   "cell_type": "markdown",
   "metadata": {},
   "source": [
    "## Cost Function (Mean Squared Error)"
   ]
  },
  {
   "cell_type": "markdown",
   "metadata": {},
   "source": [
    "$$\n",
    "\\begin{equation}\n",
    "J(\\theta_0,\\theta_1)=\\frac{1}{2m}\\sum_{i=1}^{m}(\\hat{y}_i-y_i)^2=\\frac{1}{2m}\\sum_{i=1}^{m}(h_\\theta(x_i)-y_i)^2\n",
    "\\end{equation}\n",
    "$$\n",
    "Where $h_\\theta(x_i) $ is the hypothesis\n",
    "\n"
   ]
  },
  {
   "cell_type": "code",
   "execution_count": 4,
   "metadata": {},
   "outputs": [],
   "source": [
    "def mse_loss(X,y,theta):\n",
    "    \"\"\"\n",
    "    X: table of data (m*n)\n",
    "    y: vector of output (supervised true value)\n",
    "    theta: vector of parameters (numpy format)\n",
    "    \"\"\"\n",
    "    inner = power(((X * theta.T) -y),2)\n",
    "    result = np.sum(inner) / (2*len(y))\n",
    "    return result   "
   ]
  },
  {
   "cell_type": "markdown",
   "metadata": {},
   "source": [
    "## Gradient Descent (Batch Gradient Descent)"
   ]
  },
  {
   "cell_type": "markdown",
   "metadata": {},
   "source": [
    "$$\\theta:=\\theta-\\alpha\\frac{\\mathrm{d}}{\\mathrm{d}\\theta}J(\\theta)$$"
   ]
  }
 ],
 "metadata": {
  "kernelspec": {
   "display_name": "Python 3.7.4 64-bit ('base': conda)",
   "language": "python",
   "name": "python37464bitbasecondafe163c64c9a34769a61d2f5b33573e92"
  },
  "language_info": {
   "codemirror_mode": {
    "name": "ipython",
    "version": 3
   },
   "file_extension": ".py",
   "mimetype": "text/x-python",
   "name": "python",
   "nbconvert_exporter": "python",
   "pygments_lexer": "ipython3",
   "version": "3.7.4"
  }
 },
 "nbformat": 4,
 "nbformat_minor": 2
}
